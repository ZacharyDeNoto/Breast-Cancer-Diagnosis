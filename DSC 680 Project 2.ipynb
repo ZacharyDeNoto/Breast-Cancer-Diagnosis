{
 "cells": [
  {
   "cell_type": "markdown",
   "metadata": {},
   "source": [
    "DSC 680 Project 2\n",
    "\n",
    "Zack DeNoto"
   ]
  },
  {
   "cell_type": "code",
   "execution_count": 191,
   "metadata": {},
   "outputs": [],
   "source": [
    "import pandas as pd\n",
    "from sklearn.preprocessing import LabelEncoder\n",
    "from sklearn.naive_bayes import GaussianNB\n",
    "from sklearn.model_selection import train_test_split\n",
    "from sklearn.metrics import accuracy_score\n",
    "from sklearn.neighbors import KNeighborsClassifier\n",
    "import numpy as np\n",
    "from sklearn.linear_model import Ridge\n",
    "from sklearn.ensemble import AdaBoostClassifier\n",
    "from sklearn.ensemble import GradientBoostingClassifier\n",
    "from sklearn.ensemble import GradientBoostingRegressor\n",
    "from sklearn import metrics\n",
    "from sklearn.ensemble import RandomForestClassifier as RFC\n",
    "from sklearn.linear_model import Ridge\n",
    "from sklearn.ensemble import AdaBoostClassifier\n",
    "from sklearn.ensemble import GradientBoostingClassifier\n",
    "from sklearn.ensemble import GradientBoostingRegressor\n",
    "from lazypredict.Supervised import LazyClassifier\n",
    "from sklearn.ensemble import RandomForestClassifier \n",
    "from sklearn.linear_model import LogisticRegression\n",
    "from xgboost import XGBClassifier\n",
    "from sklearn.linear_model import SGDClassifier\n",
    "import matplotlib.pyplot as plt\n",
    "from keras.models import Sequential\n",
    "from keras.layers import Dense\n",
    "\n"
   ]
  },
  {
   "cell_type": "code",
   "execution_count": 138,
   "metadata": {},
   "outputs": [
    {
     "name": "stdout",
     "output_type": "stream",
     "text": [
      "         id diagnosis  radius_mean  texture_mean  perimeter_mean  area_mean  \\\n",
      "0    842302         M        17.99         10.38          122.80    1001.00   \n",
      "1    842517         M        20.57         17.77          132.90    1326.00   \n",
      "2  84300903         M        19.69         21.25          130.00    1203.00   \n",
      "3  84348301         M        11.42         20.38           77.58     386.10   \n",
      "4  84358402         M        20.29         14.34          135.10    1297.00   \n",
      "\n",
      "   smoothness_mean  compactness_mean  concavity_mean  concave points_mean  \\\n",
      "0             0.12              0.28            0.30                 0.15   \n",
      "1             0.08              0.08            0.09                 0.07   \n",
      "2             0.11              0.16            0.20                 0.13   \n",
      "3             0.14              0.28            0.24                 0.11   \n",
      "4             0.10              0.13            0.20                 0.10   \n",
      "\n",
      "   ...  texture_worst  perimeter_worst  area_worst  smoothness_worst  \\\n",
      "0  ...          17.33           184.60     2019.00              0.16   \n",
      "1  ...          23.41           158.80     1956.00              0.12   \n",
      "2  ...          25.53           152.50     1709.00              0.14   \n",
      "3  ...          26.50            98.87      567.70              0.21   \n",
      "4  ...          16.67           152.20     1575.00              0.14   \n",
      "\n",
      "   compactness_worst  concavity_worst  concave points_worst  symmetry_worst  \\\n",
      "0               0.67             0.71                  0.27            0.46   \n",
      "1               0.19             0.24                  0.19            0.28   \n",
      "2               0.42             0.45                  0.24            0.36   \n",
      "3               0.87             0.69                  0.26            0.66   \n",
      "4               0.20             0.40                  0.16            0.24   \n",
      "\n",
      "   fractal_dimension_worst  Unnamed: 32  \n",
      "0                     0.12          nan  \n",
      "1                     0.09          nan  \n",
      "2                     0.09          nan  \n",
      "3                     0.17          nan  \n",
      "4                     0.08          nan  \n",
      "\n",
      "[5 rows x 33 columns]\n"
     ]
    }
   ],
   "source": [
    "#imports data from csv file\n",
    "data = pd.read_csv('project_2_data.csv')\n",
    "\n",
    "#puts data into a dataframe and prints it out\n",
    "df = pd.DataFrame(data)\n",
    "print(df.head())"
   ]
  },
  {
   "cell_type": "code",
   "execution_count": 139,
   "metadata": {},
   "outputs": [
    {
     "name": "stdout",
     "output_type": "stream",
     "text": [
      "           id diagnosis  radius_mean  texture_mean  perimeter_mean  area_mean  \\\n",
      "0      842302         M        17.99         10.38          122.80    1001.00   \n",
      "1      842517         M        20.57         17.77          132.90    1326.00   \n",
      "2    84300903         M        19.69         21.25          130.00    1203.00   \n",
      "3    84348301         M        11.42         20.38           77.58     386.10   \n",
      "4    84358402         M        20.29         14.34          135.10    1297.00   \n",
      "..        ...       ...          ...           ...             ...        ...   \n",
      "564    926424         M        21.56         22.39          142.00    1479.00   \n",
      "565    926682         M        20.13         28.25          131.20    1261.00   \n",
      "566    926954         M        16.60         28.08          108.30     858.10   \n",
      "567    927241         M        20.60         29.33          140.10    1265.00   \n",
      "568     92751         B         7.76         24.54           47.92     181.00   \n",
      "\n",
      "     smoothness_mean  compactness_mean  concavity_mean  concave points_mean  \\\n",
      "0               0.12              0.28            0.30                 0.15   \n",
      "1               0.08              0.08            0.09                 0.07   \n",
      "2               0.11              0.16            0.20                 0.13   \n",
      "3               0.14              0.28            0.24                 0.11   \n",
      "4               0.10              0.13            0.20                 0.10   \n",
      "..               ...               ...             ...                  ...   \n",
      "564             0.11              0.12            0.24                 0.14   \n",
      "565             0.10              0.10            0.14                 0.10   \n",
      "566             0.08              0.10            0.09                 0.05   \n",
      "567             0.12              0.28            0.35                 0.15   \n",
      "568             0.05              0.04            0.00                 0.00   \n",
      "\n",
      "     ...  radius_worst  texture_worst  perimeter_worst  area_worst  \\\n",
      "0    ...         25.38          17.33           184.60     2019.00   \n",
      "1    ...         24.99          23.41           158.80     1956.00   \n",
      "2    ...         23.57          25.53           152.50     1709.00   \n",
      "3    ...         14.91          26.50            98.87      567.70   \n",
      "4    ...         22.54          16.67           152.20     1575.00   \n",
      "..   ...           ...            ...              ...         ...   \n",
      "564  ...         25.45          26.40           166.10     2027.00   \n",
      "565  ...         23.69          38.25           155.00     1731.00   \n",
      "566  ...         18.98          34.12           126.70     1124.00   \n",
      "567  ...         25.74          39.42           184.60     1821.00   \n",
      "568  ...          9.46          30.37            59.16      268.60   \n",
      "\n",
      "     smoothness_worst  compactness_worst  concavity_worst  \\\n",
      "0                0.16               0.67             0.71   \n",
      "1                0.12               0.19             0.24   \n",
      "2                0.14               0.42             0.45   \n",
      "3                0.21               0.87             0.69   \n",
      "4                0.14               0.20             0.40   \n",
      "..                ...                ...              ...   \n",
      "564              0.14               0.21             0.41   \n",
      "565              0.12               0.19             0.32   \n",
      "566              0.11               0.31             0.34   \n",
      "567              0.17               0.87             0.94   \n",
      "568              0.09               0.06             0.00   \n",
      "\n",
      "     concave points_worst  symmetry_worst  fractal_dimension_worst  \n",
      "0                    0.27            0.46                     0.12  \n",
      "1                    0.19            0.28                     0.09  \n",
      "2                    0.24            0.36                     0.09  \n",
      "3                    0.26            0.66                     0.17  \n",
      "4                    0.16            0.24                     0.08  \n",
      "..                    ...             ...                      ...  \n",
      "564                  0.22            0.21                     0.07  \n",
      "565                  0.16            0.26                     0.07  \n",
      "566                  0.14            0.22                     0.08  \n",
      "567                  0.27            0.41                     0.12  \n",
      "568                  0.00            0.29                     0.07  \n",
      "\n",
      "[569 rows x 32 columns]\n"
     ]
    }
   ],
   "source": [
    "df = df.drop(columns=['Unnamed: 32'])\n",
    "\n",
    "print(df)"
   ]
  },
  {
   "cell_type": "code",
   "execution_count": 140,
   "metadata": {},
   "outputs": [],
   "source": [
    "label_encoder = LabelEncoder()\n",
    "df['diagnosis'] = label_encoder.fit_transform(df['diagnosis'])"
   ]
  },
  {
   "cell_type": "code",
   "execution_count": 141,
   "metadata": {},
   "outputs": [],
   "source": [
    "df = df.drop(['id'], axis=1)"
   ]
  },
  {
   "cell_type": "code",
   "execution_count": 198,
   "metadata": {},
   "outputs": [],
   "source": [
    "X = df.drop(['diagnosis'], axis=1)\n",
    "\n",
    "y= df.diagnosis\n",
    "\n",
    "\n",
    "X_train, X_test, y_train, y_test = train_test_split(X, y)  \n"
   ]
  },
  {
   "cell_type": "code",
   "execution_count": 200,
   "metadata": {},
   "outputs": [
    {
     "name": "stderr",
     "output_type": "stream",
     "text": [
      "100%|██████████████████████████████████████████| 29/29 [00:01<00:00, 17.15it/s]\n"
     ]
    },
    {
     "name": "stdout",
     "output_type": "stream",
     "text": [
      "                               Accuracy  Balanced Accuracy  ROC AUC  F1 Score  \\\n",
      "Model                                                                           \n",
      "SVC                                0.99               0.99     0.99      0.99   \n",
      "PassiveAggressiveClassifier        0.98               0.98     0.98      0.98   \n",
      "KNeighborsClassifier               0.97               0.97     0.97      0.97   \n",
      "SGDClassifier                      0.97               0.97     0.97      0.97   \n",
      "Perceptron                         0.97               0.96     0.96      0.96   \n",
      "LogisticRegression                 0.97               0.96     0.96      0.96   \n",
      "CalibratedClassifierCV             0.97               0.96     0.96      0.96   \n",
      "LinearSVC                          0.95               0.95     0.95      0.95   \n",
      "QuadraticDiscriminantAnalysis      0.95               0.95     0.95      0.95   \n",
      "AdaBoostClassifier                 0.95               0.95     0.95      0.95   \n",
      "LGBMClassifier                     0.95               0.95     0.95      0.95   \n",
      "XGBClassifier                      0.94               0.94     0.94      0.94   \n",
      "ExtraTreesClassifier               0.94               0.93     0.93      0.94   \n",
      "RandomForestClassifier             0.94               0.93     0.93      0.94   \n",
      "RidgeClassifierCV                  0.94               0.93     0.93      0.94   \n",
      "RidgeClassifier                    0.94               0.93     0.93      0.94   \n",
      "LabelSpreading                     0.94               0.93     0.93      0.94   \n",
      "LabelPropagation                   0.94               0.93     0.93      0.94   \n",
      "LinearDiscriminantAnalysis         0.93               0.92     0.92      0.93   \n",
      "GaussianNB                         0.92               0.92     0.92      0.92   \n",
      "BaggingClassifier                  0.92               0.91     0.91      0.92   \n",
      "ExtraTreeClassifier                0.91               0.91     0.91      0.91   \n",
      "DecisionTreeClassifier             0.92               0.91     0.91      0.92   \n",
      "NuSVC                              0.92               0.90     0.90      0.91   \n",
      "BernoulliNB                        0.90               0.90     0.90      0.90   \n",
      "NearestCentroid                    0.91               0.89     0.89      0.91   \n",
      "DummyClassifier                    0.45               0.42     0.42      0.44   \n",
      "\n",
      "                               Time Taken  \n",
      "Model                                      \n",
      "SVC                                  0.02  \n",
      "PassiveAggressiveClassifier          0.02  \n",
      "KNeighborsClassifier                 0.04  \n",
      "SGDClassifier                        0.02  \n",
      "Perceptron                           0.02  \n",
      "LogisticRegression                   0.03  \n",
      "CalibratedClassifierCV               0.06  \n",
      "LinearSVC                            0.02  \n",
      "QuadraticDiscriminantAnalysis        0.02  \n",
      "AdaBoostClassifier                   0.20  \n",
      "LGBMClassifier                       0.17  \n",
      "XGBClassifier                        0.11  \n",
      "ExtraTreesClassifier                 0.19  \n",
      "RandomForestClassifier               0.27  \n",
      "RidgeClassifierCV                    0.03  \n",
      "RidgeClassifier                      0.02  \n",
      "LabelSpreading                       0.08  \n",
      "LabelPropagation                     0.08  \n",
      "LinearDiscriminantAnalysis           0.03  \n",
      "GaussianNB                           0.02  \n",
      "BaggingClassifier                    0.07  \n",
      "ExtraTreeClassifier                  0.02  \n",
      "DecisionTreeClassifier               0.03  \n",
      "NuSVC                                0.03  \n",
      "BernoulliNB                          0.02  \n",
      "NearestCentroid                      0.02  \n",
      "DummyClassifier                      0.02  \n"
     ]
    }
   ],
   "source": [
    "clf = LazyClassifier(verbose=0,ignore_warnings=True)\n",
    "models, predictions = clf.fit(X_train, X_test, y_train, y_test)\n",
    "print(models)"
   ]
  },
  {
   "cell_type": "code",
   "execution_count": 144,
   "metadata": {},
   "outputs": [
    {
     "name": "stdout",
     "output_type": "stream",
     "text": [
      "Random Forest Evaluation Metrics\n",
      "Accuracy: 0.958041958041958\n",
      "F1 Score: 0.9542838874680306\n"
     ]
    }
   ],
   "source": [
    "rf = RandomForestClassifier()\n",
    "rf.fit(X_train, y_train)\n",
    "y_pred = rf.predict(X_test)\n",
    "\n",
    "print('Random Forest Evaluation Metrics')\n",
    "print('Accuracy: ' + str(metrics.accuracy_score(y_test,y_pred)))\n",
    "print('F1 Score: ' + str(metrics.f1_score(y_test,y_pred, average='macro')))"
   ]
  },
  {
   "cell_type": "code",
   "execution_count": 145,
   "metadata": {},
   "outputs": [
    {
     "name": "stdout",
     "output_type": "stream",
     "text": [
      "Logistic Regresstion Evaluation Metrics\n",
      "Accuracy: 0.965034965034965\n",
      "F1 Score: 0.9620669531540135\n"
     ]
    }
   ],
   "source": [
    "lr = LogisticRegression()\n",
    "lr.fit(X_train, y_train)\n",
    "y_pred_lr = lr.predict(X_test)\n",
    "\n",
    "print('Logistic Regresstion Evaluation Metrics')\n",
    "print('Accuracy: ' + str(metrics.accuracy_score(y_test,y_pred_lr)))\n",
    "print('F1 Score: ' + str(metrics.f1_score(y_test,y_pred_lr, average='macro')))"
   ]
  },
  {
   "cell_type": "code",
   "execution_count": 146,
   "metadata": {},
   "outputs": [
    {
     "name": "stdout",
     "output_type": "stream",
     "text": [
      "XGBoost Evaluation Metrics\n",
      "Accuracy: 0.972027972027972\n",
      "F1 Score: 0.9695225916453538\n"
     ]
    }
   ],
   "source": [
    "xgb = XGBClassifier()\n",
    "xgb.fit(X_train, y_train)\n",
    "y_pred_xgb = xgb.predict(X_test)\n",
    "\n",
    "print('XGBoost Evaluation Metrics')\n",
    "print('Accuracy: ' + str(metrics.accuracy_score(y_test,y_pred_xgb)))\n",
    "print('F1 Score: ' + str(metrics.f1_score(y_test,y_pred_xgb, average='macro')))"
   ]
  },
  {
   "cell_type": "code",
   "execution_count": 147,
   "metadata": {},
   "outputs": [
    {
     "name": "stdout",
     "output_type": "stream",
     "text": [
      "Stochastic Gradient Descent Evaluation Metrics\n",
      "Accuracy: 0.6783216783216783\n",
      "F1 Score: 0.677927927927928\n"
     ]
    }
   ],
   "source": [
    "sgd = SGDClassifier()\n",
    "sgd.fit(X_train, y_train)\n",
    "y_pred_sgd = sgd.predict(X_test)\n",
    "\n",
    "print('Stochastic Gradient Descent Evaluation Metrics')\n",
    "print('Accuracy: ' + str(metrics.accuracy_score(y_test,y_pred_sgd)))\n",
    "print('F1 Score: ' + str(metrics.f1_score(y_test,y_pred_sgd, average='macro')))"
   ]
  },
  {
   "cell_type": "code",
   "execution_count": 148,
   "metadata": {},
   "outputs": [
    {
     "name": "stdout",
     "output_type": "stream",
     "text": [
      "K-Nearest Neighbor Evaluation Metrics\n",
      "Accuracy: 0.9440559440559441\n",
      "F1 Score: 0.938494623655914\n"
     ]
    }
   ],
   "source": [
    "knn = KNeighborsClassifier()\n",
    "knn.fit(X_train, y_train)\n",
    "y_pred_knn = knn.predict(X_test)\n",
    "\n",
    "print('K-Nearest Neighbor Evaluation Metrics')\n",
    "print('Accuracy: ' + str(metrics.accuracy_score(y_test,y_pred_knn)))\n",
    "print('F1 Score: ' + str(metrics.f1_score(y_test,y_pred_knn, average='macro')))"
   ]
  },
  {
   "cell_type": "code",
   "execution_count": 197,
   "metadata": {},
   "outputs": [
    {
     "name": "stdout",
     "output_type": "stream",
     "text": [
      "569/569 [==============================] - 0s 121us/step\n",
      "Accuracy: 96.31\n",
      "Train on 426 samples, validate on 143 samples\n",
      "Epoch 1/5\n",
      "426/426 [==============================] - 0s 106us/step - loss: 0.1029 - accuracy: 0.9577 - val_loss: 0.1040 - val_accuracy: 0.9441\n",
      "Epoch 2/5\n",
      "426/426 [==============================] - 0s 129us/step - loss: 0.0856 - accuracy: 0.9671 - val_loss: 0.0812 - val_accuracy: 0.9650\n",
      "Epoch 3/5\n",
      "426/426 [==============================] - 0s 106us/step - loss: 0.0861 - accuracy: 0.9624 - val_loss: 0.1156 - val_accuracy: 0.9441\n",
      "Epoch 4/5\n",
      "426/426 [==============================] - 0s 103us/step - loss: 0.0917 - accuracy: 0.9648 - val_loss: 0.0958 - val_accuracy: 0.9441\n",
      "Epoch 5/5\n",
      "426/426 [==============================] - 0s 136us/step - loss: 0.1075 - accuracy: 0.9648 - val_loss: 0.0773 - val_accuracy: 0.9720\n"
     ]
    },
    {
     "data": {
      "image/png": "[encoded data removed]",
      "text/plain": [
       "<Figure size 432x288 with 1 Axes>"
      ]
     },
     "metadata": {
      "needs_background": "light"
     },
     "output_type": "display_data"
    }
   ],
   "source": [
    "model = Sequential()\n",
    "model.add(Dense(12, input_dim=30, activation='relu'))\n",
    "model.add(Dense(8, activation='relu'))\n",
    "model.add(Dense(1, activation='sigmoid'))\n",
    "# compile the keras model\n",
    "model.compile(loss='binary_crossentropy', optimizer='adam', metrics=['accuracy'])\n",
    "# fit the keras model on the dataset\n",
    "model.fit(X, y, epochs=150, batch_size=10, verbose=0)\n",
    "_, accuracy = model.evaluate(X, y)\n",
    "print('Accuracy: %.2f' % (accuracy*100))\n",
    "\n",
    "history = model.fit(X_train, y_train,\n",
    "          epochs=5,\n",
    "          verbose=1,\n",
    "          validation_data=(X_test, y_test))\n",
    "\n",
    "plt.plot(history.history['accuracy'])\n",
    "plt.plot(history.history['val_accuracy'])\n",
    "plt.title('model accuracy')\n",
    "plt.ylabel('accuracy')\n",
    "plt.xlabel('epoch')\n",
    "plt.legend(['train', 'test'], loc='lower right')\n",
    "plt.show()"
   ]
  },
  {
   "cell_type": "code",
   "execution_count": 196,
   "metadata": {},
   "outputs": [],
   "source": [
    "# --------------------------------------------------------------------------------------"
   ]
  },
  {
   "cell_type": "code",
   "execution_count": 151,
   "metadata": {},
   "outputs": [],
   "source": [
    "X = df.drop(['radius_mean'], axis=1)\n",
    "\n",
    "y= df.radius_mean.astype(int)\n",
    "\n",
    "\n",
    "X_train, X_test, y_train, y_test = train_test_split(X, y)  "
   ]
  },
  {
   "cell_type": "code",
   "execution_count": 152,
   "metadata": {},
   "outputs": [
    {
     "name": "stderr",
     "output_type": "stream",
     "text": [
      "100%|██████████████████████████████████████████| 29/29 [00:06<00:00,  4.77it/s]"
     ]
    },
    {
     "name": "stdout",
     "output_type": "stream",
     "text": [
      "                             Accuracy  Balanced Accuracy ROC AUC  F1 Score  \\\n",
      "Model                                                                        \n",
      "LinearDiscriminantAnalysis       0.87               0.72    None      0.87   \n",
      "BaggingClassifier                0.90               0.71    None      0.90   \n",
      "DecisionTreeClassifier           0.89               0.67    None      0.88   \n",
      "XGBClassifier                    0.92               0.65    None      0.91   \n",
      "LGBMClassifier                   0.87               0.60    None      0.85   \n",
      "RandomForestClassifier           0.82               0.54    None      0.80   \n",
      "ExtraTreesClassifier             0.75               0.54    None      0.74   \n",
      "GaussianNB                       0.76               0.53    None      0.76   \n",
      "ExtraTreeClassifier              0.50               0.35    None      0.52   \n",
      "NearestCentroid                  0.29               0.25    None      0.31   \n",
      "LogisticRegression               0.35               0.21    None      0.36   \n",
      "AdaBoostClassifier               0.29               0.18    None      0.13   \n",
      "LinearSVC                        0.28               0.17    None      0.26   \n",
      "BernoulliNB                      0.23               0.16    None      0.18   \n",
      "SVC                              0.31               0.15    None      0.28   \n",
      "KNeighborsClassifier             0.29               0.15    None      0.28   \n",
      "SGDClassifier                    0.24               0.15    None      0.21   \n",
      "PassiveAggressiveClassifier      0.24               0.14    None      0.23   \n",
      "RidgeClassifier                  0.23               0.14    None      0.21   \n",
      "Perceptron                       0.21               0.13    None      0.18   \n",
      "CalibratedClassifierCV           0.25               0.13    None      0.22   \n",
      "LabelSpreading                   0.24               0.13    None      0.25   \n",
      "LabelPropagation                 0.24               0.13    None      0.25   \n",
      "RidgeClassifierCV                0.22               0.12    None      0.20   \n",
      "DummyClassifier                  0.08               0.07    None      0.08   \n",
      "\n",
      "                             Time Taken  \n",
      "Model                                    \n",
      "LinearDiscriminantAnalysis         0.02  \n",
      "BaggingClassifier                  0.11  \n",
      "DecisionTreeClassifier             0.03  \n",
      "XGBClassifier                      0.51  \n",
      "LGBMClassifier                     2.03  \n",
      "RandomForestClassifier             0.34  \n",
      "ExtraTreesClassifier               0.25  \n",
      "GaussianNB                         0.02  \n",
      "ExtraTreeClassifier                0.02  \n",
      "NearestCentroid                    0.02  \n",
      "LogisticRegression                 0.14  \n",
      "AdaBoostClassifier                 0.24  \n",
      "LinearSVC                          0.34  \n",
      "BernoulliNB                        0.02  \n",
      "SVC                                0.06  \n",
      "KNeighborsClassifier               0.03  \n",
      "SGDClassifier                      0.06  \n",
      "PassiveAggressiveClassifier        0.05  \n",
      "RidgeClassifier                    0.03  \n",
      "Perceptron                         0.04  \n",
      "CalibratedClassifierCV             1.52  \n",
      "LabelSpreading                     0.06  \n",
      "LabelPropagation                   0.04  \n",
      "RidgeClassifierCV                  0.02  \n",
      "DummyClassifier                    0.02  \n"
     ]
    },
    {
     "name": "stderr",
     "output_type": "stream",
     "text": [
      "\n"
     ]
    }
   ],
   "source": [
    "clf = LazyClassifier(verbose=0,ignore_warnings=True)\n",
    "models, predictions = clf.fit(X_train, X_test, y_train, y_test)\n",
    "print(models)"
   ]
  },
  {
   "cell_type": "code",
   "execution_count": 153,
   "metadata": {},
   "outputs": [
    {
     "name": "stdout",
     "output_type": "stream",
     "text": [
      "Random Forest Evaluation Metrics\n",
      "Accuracy: 0.8321678321678322\n",
      "F1 Score: 0.474505928853755\n"
     ]
    }
   ],
   "source": [
    "rf = RandomForestClassifier()\n",
    "rf.fit(X_train, y_train)\n",
    "y_pred = rf.predict(X_test)\n",
    "\n",
    "print('Random Forest Evaluation Metrics')\n",
    "print('Accuracy: ' + str(metrics.accuracy_score(y_test,y_pred)))\n",
    "print('F1 Score: ' + str(metrics.f1_score(y_test,y_pred, average='macro')))"
   ]
  },
  {
   "cell_type": "code",
   "execution_count": 154,
   "metadata": {},
   "outputs": [
    {
     "name": "stdout",
     "output_type": "stream",
     "text": [
      "Logistic Regresstion Evaluation Metrics\n",
      "Accuracy: 0.3356643356643357\n",
      "F1 Score: 0.14909816431555561\n"
     ]
    }
   ],
   "source": [
    "lr = LogisticRegression()\n",
    "lr.fit(X_train, y_train)\n",
    "y_pred_lr = lr.predict(X_test)\n",
    "\n",
    "print('Logistic Regresstion Evaluation Metrics')\n",
    "print('Accuracy: ' + str(metrics.accuracy_score(y_test,y_pred_lr)))\n",
    "print('F1 Score: ' + str(metrics.f1_score(y_test,y_pred_lr, average='macro')))"
   ]
  },
  {
   "cell_type": "code",
   "execution_count": 155,
   "metadata": {},
   "outputs": [
    {
     "name": "stdout",
     "output_type": "stream",
     "text": [
      "XGBoost Evaluation Metrics\n",
      "Accuracy: 0.916083916083916\n",
      "F1 Score: 0.5857094759991304\n"
     ]
    }
   ],
   "source": [
    "xgb = XGBClassifier()\n",
    "xgb.fit(X_train, y_train)\n",
    "y_pred_xgb = xgb.predict(X_test)\n",
    "\n",
    "print('XGBoost Evaluation Metrics')\n",
    "print('Accuracy: ' + str(metrics.accuracy_score(y_test,y_pred_xgb)))\n",
    "print('F1 Score: ' + str(metrics.f1_score(y_test,y_pred_xgb, average='macro')))"
   ]
  },
  {
   "cell_type": "code",
   "execution_count": 156,
   "metadata": {},
   "outputs": [
    {
     "name": "stdout",
     "output_type": "stream",
     "text": [
      "Stochastic Gradient Descent Evaluation Metrics\n",
      "Accuracy: 0.16783216783216784\n",
      "F1 Score: 0.05209281679869915\n"
     ]
    }
   ],
   "source": [
    "sgd = SGDClassifier()\n",
    "sgd.fit(X_train, y_train)\n",
    "y_pred_sgd = sgd.predict(X_test)\n",
    "\n",
    "print('Stochastic Gradient Descent Evaluation Metrics')\n",
    "print('Accuracy: ' + str(metrics.accuracy_score(y_test,y_pred_sgd)))\n",
    "print('F1 Score: ' + str(metrics.f1_score(y_test,y_pred_sgd, average='macro')))"
   ]
  },
  {
   "cell_type": "code",
   "execution_count": 157,
   "metadata": {},
   "outputs": [
    {
     "name": "stdout",
     "output_type": "stream",
     "text": [
      "K-Nearest Neighbor Evaluation Metrics\n",
      "Accuracy: 0.7972027972027972\n",
      "F1 Score: 0.49376698279137304\n"
     ]
    }
   ],
   "source": [
    "knn = KNeighborsClassifier()\n",
    "knn.fit(X_train, y_train)\n",
    "y_pred_knn = knn.predict(X_test)\n",
    "\n",
    "print('K-Nearest Neighbor Evaluation Metrics')\n",
    "print('Accuracy: ' + str(metrics.accuracy_score(y_test,y_pred_knn)))\n",
    "print('F1 Score: ' + str(metrics.f1_score(y_test,y_pred_knn, average='macro')))"
   ]
  },
  {
   "cell_type": "code",
   "execution_count": 159,
   "metadata": {},
   "outputs": [],
   "source": [
    "# --------------------------------------------------------------------------------------"
   ]
  },
  {
   "cell_type": "code",
   "execution_count": 160,
   "metadata": {},
   "outputs": [],
   "source": [
    "X = df.drop(['texture_mean'], axis=1)\n",
    "\n",
    "y= df.texture_mean.astype(int)\n",
    "\n",
    "\n",
    "X_train, X_test, y_train, y_test = train_test_split(X, y)  "
   ]
  },
  {
   "cell_type": "code",
   "execution_count": 161,
   "metadata": {},
   "outputs": [
    {
     "name": "stderr",
     "output_type": "stream",
     "text": [
      "100%|██████████████████████████████████████████| 29/29 [00:08<00:00,  3.47it/s]"
     ]
    },
    {
     "name": "stdout",
     "output_type": "stream",
     "text": [
      "                             Accuracy  Balanced Accuracy ROC AUC  F1 Score  \\\n",
      "Model                                                                        \n",
      "XGBClassifier                    0.27               0.29    None      0.26   \n",
      "LinearDiscriminantAnalysis       0.26               0.26    None      0.25   \n",
      "LogisticRegression               0.22               0.23    None      0.21   \n",
      "LGBMClassifier                   0.24               0.23    None      0.24   \n",
      "BaggingClassifier                0.23               0.22    None      0.22   \n",
      "LinearSVC                        0.19               0.21    None      0.18   \n",
      "NearestCentroid                  0.14               0.20    None      0.13   \n",
      "DecisionTreeClassifier           0.17               0.19    None      0.17   \n",
      "RandomForestClassifier           0.18               0.19    None      0.16   \n",
      "GaussianNB                       0.12               0.17    None      0.10   \n",
      "RidgeClassifierCV                0.16               0.15    None      0.15   \n",
      "RidgeClassifier                  0.14               0.14    None      0.13   \n",
      "PassiveAggressiveClassifier      0.10               0.13    None      0.08   \n",
      "LabelPropagation                 0.13               0.13    None      0.12   \n",
      "LabelSpreading                   0.13               0.13    None      0.12   \n",
      "BernoulliNB                      0.13               0.13    None      0.14   \n",
      "ExtraTreeClassifier              0.09               0.13    None      0.08   \n",
      "SGDClassifier                    0.14               0.12    None      0.13   \n",
      "ExtraTreesClassifier             0.13               0.12    None      0.14   \n",
      "CalibratedClassifierCV           0.15               0.11    None      0.09   \n",
      "AdaBoostClassifier               0.17               0.10    None      0.05   \n",
      "Perceptron                       0.10               0.08    None      0.08   \n",
      "KNeighborsClassifier             0.09               0.07    None      0.09   \n",
      "SVC                              0.10               0.06    None      0.08   \n",
      "DummyClassifier                  0.08               0.06    None      0.07   \n",
      "\n",
      "                             Time Taken  \n",
      "Model                                    \n",
      "XGBClassifier                      1.03  \n",
      "LinearDiscriminantAnalysis         0.02  \n",
      "LogisticRegression                 0.17  \n",
      "LGBMClassifier                     2.69  \n",
      "BaggingClassifier                  0.13  \n",
      "LinearSVC                          0.57  \n",
      "NearestCentroid                    0.02  \n",
      "DecisionTreeClassifier             0.03  \n",
      "RandomForestClassifier             0.41  \n",
      "GaussianNB                         0.03  \n",
      "RidgeClassifierCV                  0.03  \n",
      "RidgeClassifier                    0.02  \n",
      "PassiveAggressiveClassifier        0.05  \n",
      "LabelPropagation                   0.04  \n",
      "LabelSpreading                     0.06  \n",
      "BernoulliNB                        0.02  \n",
      "ExtraTreeClassifier                0.02  \n",
      "SGDClassifier                      0.06  \n",
      "ExtraTreesClassifier               0.28  \n",
      "CalibratedClassifierCV             2.18  \n",
      "AdaBoostClassifier                 0.30  \n",
      "Perceptron                         0.04  \n",
      "KNeighborsClassifier               0.03  \n",
      "SVC                                0.06  \n",
      "DummyClassifier                    0.02  \n"
     ]
    },
    {
     "name": "stderr",
     "output_type": "stream",
     "text": [
      "\n"
     ]
    }
   ],
   "source": [
    "clf = LazyClassifier(verbose=0,ignore_warnings=True)\n",
    "models, predictions = clf.fit(X_train, X_test, y_train, y_test)\n",
    "print(models)"
   ]
  },
  {
   "cell_type": "code",
   "execution_count": 162,
   "metadata": {},
   "outputs": [
    {
     "name": "stdout",
     "output_type": "stream",
     "text": [
      "Random Forest Evaluation Metrics\n",
      "Accuracy: 0.20279720279720279\n",
      "F1 Score: 0.19190226575159822\n"
     ]
    }
   ],
   "source": [
    "rf = RandomForestClassifier()\n",
    "rf.fit(X_train, y_train)\n",
    "y_pred = rf.predict(X_test)\n",
    "\n",
    "print('Random Forest Evaluation Metrics')\n",
    "print('Accuracy: ' + str(metrics.accuracy_score(y_test,y_pred)))\n",
    "print('F1 Score: ' + str(metrics.f1_score(y_test,y_pred, average='macro')))"
   ]
  },
  {
   "cell_type": "code",
   "execution_count": 163,
   "metadata": {},
   "outputs": [
    {
     "name": "stdout",
     "output_type": "stream",
     "text": [
      "Logistic Regresstion Evaluation Metrics\n",
      "Accuracy: 0.11888111888111888\n",
      "F1 Score: 0.051767937944408524\n"
     ]
    }
   ],
   "source": [
    "lr = LogisticRegression()\n",
    "lr.fit(X_train, y_train)\n",
    "y_pred_lr = lr.predict(X_test)\n",
    "\n",
    "print('Logistic Regresstion Evaluation Metrics')\n",
    "print('Accuracy: ' + str(metrics.accuracy_score(y_test,y_pred_lr)))\n",
    "print('F1 Score: ' + str(metrics.f1_score(y_test,y_pred_lr, average='macro')))"
   ]
  },
  {
   "cell_type": "code",
   "execution_count": 164,
   "metadata": {},
   "outputs": [
    {
     "name": "stdout",
     "output_type": "stream",
     "text": [
      "XGBoost Evaluation Metrics\n",
      "Accuracy: 0.26573426573426573\n",
      "F1 Score: 0.26729083874352416\n"
     ]
    }
   ],
   "source": [
    "xgb = XGBClassifier()\n",
    "xgb.fit(X_train, y_train)\n",
    "y_pred_xgb = xgb.predict(X_test)\n",
    "\n",
    "print('XGBoost Evaluation Metrics')\n",
    "print('Accuracy: ' + str(metrics.accuracy_score(y_test,y_pred_xgb)))\n",
    "print('F1 Score: ' + str(metrics.f1_score(y_test,y_pred_xgb, average='macro')))"
   ]
  },
  {
   "cell_type": "code",
   "execution_count": 165,
   "metadata": {},
   "outputs": [
    {
     "name": "stdout",
     "output_type": "stream",
     "text": [
      "Stochastic Gradient Descent Evaluation Metrics\n",
      "Accuracy: 0.055944055944055944\n",
      "F1 Score: 0.008372865275142315\n"
     ]
    }
   ],
   "source": [
    "sgd = SGDClassifier()\n",
    "sgd.fit(X_train, y_train)\n",
    "y_pred_sgd = sgd.predict(X_test)\n",
    "\n",
    "print('Stochastic Gradient Descent Evaluation Metrics')\n",
    "print('Accuracy: ' + str(metrics.accuracy_score(y_test,y_pred_sgd)))\n",
    "print('F1 Score: ' + str(metrics.f1_score(y_test,y_pred_sgd, average='macro')))"
   ]
  },
  {
   "cell_type": "code",
   "execution_count": 166,
   "metadata": {},
   "outputs": [
    {
     "name": "stdout",
     "output_type": "stream",
     "text": [
      "K-Nearest Neighbor Evaluation Metrics\n",
      "Accuracy: 0.07692307692307693\n",
      "F1 Score: 0.040878080594829364\n"
     ]
    }
   ],
   "source": [
    "knn = KNeighborsClassifier()\n",
    "knn.fit(X_train, y_train)\n",
    "y_pred_knn = knn.predict(X_test)\n",
    "\n",
    "print('K-Nearest Neighbor Evaluation Metrics')\n",
    "print('Accuracy: ' + str(metrics.accuracy_score(y_test,y_pred_knn)))\n",
    "print('F1 Score: ' + str(metrics.f1_score(y_test,y_pred_knn, average='macro')))"
   ]
  },
  {
   "cell_type": "code",
   "execution_count": 168,
   "metadata": {},
   "outputs": [],
   "source": [
    "# --------------------------------------------------------------------------------------"
   ]
  },
  {
   "cell_type": "code",
   "execution_count": 169,
   "metadata": {},
   "outputs": [],
   "source": [
    "X = df.drop(['perimeter_mean'], axis=1)\n",
    "\n",
    "y= df.perimeter_mean.astype(int)\n",
    "\n",
    "\n",
    "X_train, X_test, y_train, y_test = train_test_split(X, y)  "
   ]
  },
  {
   "cell_type": "code",
   "execution_count": 170,
   "metadata": {},
   "outputs": [
    {
     "name": "stderr",
     "output_type": "stream",
     "text": [
      "100%|██████████████████████████████████████████| 29/29 [00:20<00:00,  1.44it/s]"
     ]
    },
    {
     "name": "stdout",
     "output_type": "stream",
     "text": [
      "                             Accuracy  Balanced Accuracy ROC AUC  F1 Score  \\\n",
      "Model                                                                        \n",
      "LinearDiscriminantAnalysis       0.50               0.43    None      0.44   \n",
      "DecisionTreeClassifier           0.25               0.17    None      0.21   \n",
      "XGBClassifier                    0.24               0.17    None      0.21   \n",
      "LGBMClassifier                   0.24               0.17    None      0.20   \n",
      "ExtraTreesClassifier             0.24               0.17    None      0.20   \n",
      "BaggingClassifier                0.24               0.16    None      0.21   \n",
      "RandomForestClassifier           0.20               0.13    None      0.16   \n",
      "ExtraTreeClassifier              0.14               0.11    None      0.14   \n",
      "GaussianNB                       0.15               0.10    None      0.11   \n",
      "KNeighborsClassifier             0.06               0.05    None      0.05   \n",
      "PassiveAggressiveClassifier      0.05               0.05    None      0.03   \n",
      "AdaBoostClassifier               0.08               0.04    None      0.02   \n",
      "Perceptron                       0.04               0.03    None      0.01   \n",
      "BernoulliNB                      0.05               0.03    None      0.03   \n",
      "SGDClassifier                    0.03               0.03    None      0.03   \n",
      "LogisticRegression               0.04               0.03    None      0.04   \n",
      "RidgeClassifier                  0.03               0.02    None      0.02   \n",
      "LinearSVC                        0.03               0.02    None      0.02   \n",
      "RidgeClassifierCV                0.03               0.01    None      0.02   \n",
      "LabelSpreading                   0.03               0.01    None      0.03   \n",
      "LabelPropagation                 0.03               0.01    None      0.03   \n",
      "CalibratedClassifierCV           0.03               0.01    None      0.01   \n",
      "SVC                              0.03               0.01    None      0.01   \n",
      "NearestCentroid                  0.01               0.01    None      0.01   \n",
      "DummyClassifier                  0.00               0.00    None      0.00   \n",
      "\n",
      "                             Time Taken  \n",
      "Model                                    \n",
      "LinearDiscriminantAnalysis         0.03  \n",
      "DecisionTreeClassifier             0.05  \n",
      "XGBClassifier                      2.71  \n",
      "LGBMClassifier                     9.72  \n",
      "ExtraTreesClassifier               0.38  \n",
      "BaggingClassifier                  0.22  \n",
      "RandomForestClassifier             0.58  \n",
      "ExtraTreeClassifier                0.02  \n",
      "GaussianNB                         0.04  \n",
      "KNeighborsClassifier               0.03  \n",
      "PassiveAggressiveClassifier        0.12  \n",
      "AdaBoostClassifier                 0.40  \n",
      "Perceptron                         0.11  \n",
      "BernoulliNB                        0.02  \n",
      "SGDClassifier                      0.15  \n",
      "LogisticRegression                 0.33  \n",
      "RidgeClassifier                    0.02  \n",
      "LinearSVC                          0.89  \n",
      "RidgeClassifierCV                  0.03  \n",
      "LabelSpreading                     0.12  \n",
      "LabelPropagation                   0.05  \n",
      "CalibratedClassifierCV             3.92  \n",
      "SVC                                0.16  \n",
      "NearestCentroid                    0.02  \n",
      "DummyClassifier                    0.02  \n"
     ]
    },
    {
     "name": "stderr",
     "output_type": "stream",
     "text": [
      "\n"
     ]
    }
   ],
   "source": [
    "clf = LazyClassifier(verbose=0,ignore_warnings=True)\n",
    "models, predictions = clf.fit(X_train, X_test, y_train, y_test)\n",
    "print(models)"
   ]
  },
  {
   "cell_type": "code",
   "execution_count": 171,
   "metadata": {},
   "outputs": [
    {
     "name": "stdout",
     "output_type": "stream",
     "text": [
      "Random Forest Evaluation Metrics\n",
      "Accuracy: 0.22377622377622378\n",
      "F1 Score: 0.0928428806335783\n"
     ]
    }
   ],
   "source": [
    "rf = RandomForestClassifier()\n",
    "rf.fit(X_train, y_train)\n",
    "y_pred = rf.predict(X_test)\n",
    "\n",
    "print('Random Forest Evaluation Metrics')\n",
    "print('Accuracy: ' + str(metrics.accuracy_score(y_test,y_pred)))\n",
    "print('F1 Score: ' + str(metrics.f1_score(y_test,y_pred, average='macro')))"
   ]
  },
  {
   "cell_type": "code",
   "execution_count": 172,
   "metadata": {},
   "outputs": [
    {
     "name": "stdout",
     "output_type": "stream",
     "text": [
      "Logistic Regresstion Evaluation Metrics\n",
      "Accuracy: 0.04195804195804196\n",
      "F1 Score: 0.007587216704863764\n"
     ]
    }
   ],
   "source": [
    "lr = LogisticRegression()\n",
    "lr.fit(X_train, y_train)\n",
    "y_pred_lr = lr.predict(X_test)\n",
    "\n",
    "print('Logistic Regresstion Evaluation Metrics')\n",
    "print('Accuracy: ' + str(metrics.accuracy_score(y_test,y_pred_lr)))\n",
    "print('F1 Score: ' + str(metrics.f1_score(y_test,y_pred_lr, average='macro')))"
   ]
  },
  {
   "cell_type": "code",
   "execution_count": 173,
   "metadata": {},
   "outputs": [
    {
     "name": "stdout",
     "output_type": "stream",
     "text": [
      "XGBoost Evaluation Metrics\n",
      "Accuracy: 0.23776223776223776\n",
      "F1 Score: 0.12416198180904062\n"
     ]
    }
   ],
   "source": [
    "xgb = XGBClassifier()\n",
    "xgb.fit(X_train, y_train)\n",
    "y_pred_xgb = xgb.predict(X_test)\n",
    "\n",
    "print('XGBoost Evaluation Metrics')\n",
    "print('Accuracy: ' + str(metrics.accuracy_score(y_test,y_pred_xgb)))\n",
    "print('F1 Score: ' + str(metrics.f1_score(y_test,y_pred_xgb, average='macro')))"
   ]
  },
  {
   "cell_type": "code",
   "execution_count": 174,
   "metadata": {},
   "outputs": [
    {
     "name": "stdout",
     "output_type": "stream",
     "text": [
      "Stochastic Gradient Descent Evaluation Metrics\n",
      "Accuracy: 0.013986013986013986\n",
      "F1 Score: 0.0003778932451582428\n"
     ]
    }
   ],
   "source": [
    "sgd = SGDClassifier()\n",
    "sgd.fit(X_train, y_train)\n",
    "y_pred_sgd = sgd.predict(X_test)\n",
    "\n",
    "print('Stochastic Gradient Descent Evaluation Metrics')\n",
    "print('Accuracy: ' + str(metrics.accuracy_score(y_test,y_pred_sgd)))\n",
    "print('F1 Score: ' + str(metrics.f1_score(y_test,y_pred_sgd, average='macro')))"
   ]
  },
  {
   "cell_type": "code",
   "execution_count": 175,
   "metadata": {},
   "outputs": [
    {
     "name": "stdout",
     "output_type": "stream",
     "text": [
      "K-Nearest Neighbor Evaluation Metrics\n",
      "Accuracy: 0.16083916083916083\n",
      "F1 Score: 0.08910881621724995\n"
     ]
    }
   ],
   "source": [
    "knn = KNeighborsClassifier()\n",
    "knn.fit(X_train, y_train)\n",
    "y_pred_knn = knn.predict(X_test)\n",
    "\n",
    "print('K-Nearest Neighbor Evaluation Metrics')\n",
    "print('Accuracy: ' + str(metrics.accuracy_score(y_test,y_pred_knn)))\n",
    "print('F1 Score: ' + str(metrics.f1_score(y_test,y_pred_knn, average='macro')))"
   ]
  },
  {
   "cell_type": "code",
   "execution_count": 177,
   "metadata": {},
   "outputs": [],
   "source": [
    "# --------------------------------------------------------------------------------------"
   ]
  },
  {
   "cell_type": "code",
   "execution_count": 209,
   "metadata": {},
   "outputs": [],
   "source": [
    "X = df.drop(['area_mean'], axis=1)\n",
    "\n",
    "y= df.area_mean.astype(int)\n",
    "\n",
    "\n",
    "X_train, X_test, y_train, y_test = train_test_split(X, y)  "
   ]
  },
  {
   "cell_type": "code",
   "execution_count": 179,
   "metadata": {},
   "outputs": [
    {
     "name": "stderr",
     "output_type": "stream",
     "text": [
      "100%|██████████████████████████████████████████| 29/29 [00:50<00:00,  1.76s/it]"
     ]
    },
    {
     "name": "stdout",
     "output_type": "stream",
     "text": [
      "                             Accuracy  Balanced Accuracy ROC AUC  F1 Score  \\\n",
      "Model                                                                        \n",
      "LinearDiscriminantAnalysis       0.07               0.08    None      0.06   \n",
      "GaussianNB                       0.03               0.03    None      0.01   \n",
      "LGBMClassifier                   0.02               0.02    None      0.02   \n",
      "DecisionTreeClassifier           0.01               0.02    None      0.01   \n",
      "XGBClassifier                    0.01               0.01    None      0.01   \n",
      "NearestCentroid                  0.01               0.01    None      0.01   \n",
      "LabelPropagation                 0.01               0.01    None      0.00   \n",
      "LabelSpreading                   0.01               0.01    None      0.00   \n",
      "LinearSVC                        0.01               0.01    None      0.00   \n",
      "ExtraTreesClassifier             0.01               0.00    None      0.01   \n",
      "LogisticRegression               0.01               0.00    None      0.01   \n",
      "BernoulliNB                      0.01               0.00    None      0.01   \n",
      "KNeighborsClassifier             0.00               0.00    None      0.00   \n",
      "ExtraTreeClassifier              0.00               0.00    None      0.00   \n",
      "BaggingClassifier                0.00               0.00    None      0.00   \n",
      "DummyClassifier                  0.00               0.00    None      0.00   \n",
      "NuSVC                            0.00               0.00    None      0.00   \n",
      "PassiveAggressiveClassifier      0.00               0.00    None      0.00   \n",
      "Perceptron                       0.00               0.00    None      0.00   \n",
      "RandomForestClassifier           0.00               0.00    None      0.00   \n",
      "RidgeClassifier                  0.00               0.00    None      0.00   \n",
      "RidgeClassifierCV                0.00               0.00    None      0.00   \n",
      "SGDClassifier                    0.00               0.00    None      0.00   \n",
      "SVC                              0.00               0.00    None      0.00   \n",
      "AdaBoostClassifier               0.00               0.00    None      0.00   \n",
      "\n",
      "                             Time Taken  \n",
      "Model                                    \n",
      "LinearDiscriminantAnalysis         0.03  \n",
      "GaussianNB                         0.08  \n",
      "LGBMClassifier                    30.45  \n",
      "DecisionTreeClassifier             0.16  \n",
      "XGBClassifier                      8.13  \n",
      "NearestCentroid                    0.03  \n",
      "LabelPropagation                   0.07  \n",
      "LabelSpreading                     0.29  \n",
      "LinearSVC                          1.67  \n",
      "ExtraTreesClassifier               0.88  \n",
      "LogisticRegression                 1.69  \n",
      "BernoulliNB                        0.03  \n",
      "KNeighborsClassifier               0.03  \n",
      "ExtraTreeClassifier                0.02  \n",
      "BaggingClassifier                  1.62  \n",
      "DummyClassifier                    0.02  \n",
      "NuSVC                              0.55  \n",
      "PassiveAggressiveClassifier        0.36  \n",
      "Perceptron                         0.31  \n",
      "RandomForestClassifier             2.46  \n",
      "RidgeClassifier                    0.03  \n",
      "RidgeClassifierCV                  0.05  \n",
      "SGDClassifier                      0.42  \n",
      "SVC                                0.51  \n",
      "AdaBoostClassifier                 0.93  \n"
     ]
    },
    {
     "name": "stderr",
     "output_type": "stream",
     "text": [
      "\n"
     ]
    }
   ],
   "source": [
    "clf = LazyClassifier(verbose=0,ignore_warnings=True)\n",
    "models, predictions = clf.fit(X_train, X_test, y_train, y_test)\n",
    "print(models)"
   ]
  },
  {
   "cell_type": "code",
   "execution_count": 210,
   "metadata": {},
   "outputs": [
    {
     "name": "stdout",
     "output_type": "stream",
     "text": [
      "Random Forest Evaluation Metrics\n",
      "Accuracy: 0.006993006993006993\n",
      "F1 Score: 0.003189792663476874\n"
     ]
    }
   ],
   "source": [
    "rf = RandomForestClassifier()\n",
    "rf.fit(X_train, y_train)\n",
    "y_pred = rf.predict(X_test)\n",
    "\n",
    "print('Random Forest Evaluation Metrics')\n",
    "print('Accuracy: ' + str(metrics.accuracy_score(y_test,y_pred)))\n",
    "print('F1 Score: ' + str(metrics.f1_score(y_test,y_pred, average='macro')))"
   ]
  },
  {
   "cell_type": "code",
   "execution_count": 211,
   "metadata": {},
   "outputs": [
    {
     "name": "stdout",
     "output_type": "stream",
     "text": [
      "Logistic Regresstion Evaluation Metrics\n",
      "Accuracy: 0.0\n",
      "F1 Score: 0.0\n"
     ]
    }
   ],
   "source": [
    "lr = LogisticRegression()\n",
    "lr.fit(X_train, y_train)\n",
    "y_pred_lr = lr.predict(X_test)\n",
    "\n",
    "print('Logistic Regresstion Evaluation Metrics')\n",
    "print('Accuracy: ' + str(metrics.accuracy_score(y_test,y_pred_lr)))\n",
    "print('F1 Score: ' + str(metrics.f1_score(y_test,y_pred_lr, average='macro')))"
   ]
  },
  {
   "cell_type": "code",
   "execution_count": 182,
   "metadata": {},
   "outputs": [
    {
     "name": "stdout",
     "output_type": "stream",
     "text": [
      "XGBoost Evaluation Metrics\n",
      "Accuracy: 0.013986013986013986\n",
      "F1 Score: 0.005775577557755775\n"
     ]
    }
   ],
   "source": [
    "xgb = XGBClassifier()\n",
    "xgb.fit(X_train, y_train)\n",
    "y_pred_xgb = xgb.predict(X_test)\n",
    "\n",
    "print('XGBoost Evaluation Metrics')\n",
    "print('Accuracy: ' + str(metrics.accuracy_score(y_test,y_pred_xgb)))\n",
    "print('F1 Score: ' + str(metrics.f1_score(y_test,y_pred_xgb, average='macro')))"
   ]
  },
  {
   "cell_type": "code",
   "execution_count": 212,
   "metadata": {},
   "outputs": [
    {
     "name": "stdout",
     "output_type": "stream",
     "text": [
      "Stochastic Gradient Descent Evaluation Metrics\n",
      "Accuracy: 0.0\n",
      "F1 Score: 0.0\n"
     ]
    }
   ],
   "source": [
    "sgd = SGDClassifier()\n",
    "sgd.fit(X_train, y_train)\n",
    "y_pred_sgd = sgd.predict(X_test)\n",
    "\n",
    "print('Stochastic Gradient Descent Evaluation Metrics')\n",
    "print('Accuracy: ' + str(metrics.accuracy_score(y_test,y_pred_sgd)))\n",
    "print('F1 Score: ' + str(metrics.f1_score(y_test,y_pred_sgd, average='macro')))"
   ]
  },
  {
   "cell_type": "code",
   "execution_count": 213,
   "metadata": {},
   "outputs": [
    {
     "name": "stdout",
     "output_type": "stream",
     "text": [
      "K-Nearest Neighbor Evaluation Metrics\n",
      "Accuracy: 0.0\n",
      "F1 Score: 0.0\n"
     ]
    }
   ],
   "source": [
    "knn = KNeighborsClassifier()\n",
    "knn.fit(X_train, y_train)\n",
    "y_pred_knn = knn.predict(X_test)\n",
    "\n",
    "print('K-Nearest Neighbor Evaluation Metrics')\n",
    "print('Accuracy: ' + str(metrics.accuracy_score(y_test,y_pred_knn)))\n",
    "print('F1 Score: ' + str(metrics.f1_score(y_test,y_pred_knn, average='macro')))"
   ]
  },
  {
   "cell_type": "code",
   "execution_count": null,
   "metadata": {},
   "outputs": [],
   "source": []
  },
  {
   "cell_type": "code",
   "execution_count": null,
   "metadata": {},
   "outputs": [],
   "source": []
  },
  {
   "cell_type": "code",
   "execution_count": null,
   "metadata": {},
   "outputs": [],
   "source": []
  },
  {
   "cell_type": "code",
   "execution_count": null,
   "metadata": {},
   "outputs": [],
   "source": []
  },
  {
   "cell_type": "code",
   "execution_count": null,
   "metadata": {},
   "outputs": [],
   "source": []
  },
  {
   "cell_type": "code",
   "execution_count": null,
   "metadata": {},
   "outputs": [],
   "source": []
  },
  {
   "cell_type": "code",
   "execution_count": null,
   "metadata": {},
   "outputs": [],
   "source": []
  },
  {
   "cell_type": "code",
   "execution_count": null,
   "metadata": {},
   "outputs": [],
   "source": []
  },
  {
   "cell_type": "code",
   "execution_count": null,
   "metadata": {},
   "outputs": [],
   "source": []
  },
  {
   "cell_type": "code",
   "execution_count": null,
   "metadata": {},
   "outputs": [],
   "source": []
  },
  {
   "cell_type": "code",
   "execution_count": null,
   "metadata": {},
   "outputs": [],
   "source": []
  },
  {
   "cell_type": "code",
   "execution_count": null,
   "metadata": {},
   "outputs": [],
   "source": []
  },
  {
   "cell_type": "code",
   "execution_count": null,
   "metadata": {},
   "outputs": [],
   "source": []
  },
  {
   "cell_type": "code",
   "execution_count": null,
   "metadata": {},
   "outputs": [],
   "source": []
  },
  {
   "cell_type": "code",
   "execution_count": null,
   "metadata": {},
   "outputs": [],
   "source": []
  },
  {
   "cell_type": "code",
   "execution_count": null,
   "metadata": {},
   "outputs": [],
   "source": []
  },
  {
   "cell_type": "code",
   "execution_count": null,
   "metadata": {},
   "outputs": [],
   "source": []
  }
 ],
 "metadata": {
  "kernelspec": {
   "display_name": "Python 3",
   "language": "python",
   "name": "python3"
  },
  "language_info": {
   "codemirror_mode": {
    "name": "ipython",
    "version": 3
   },
   "file_extension": ".py",
   "mimetype": "text/x-python",
   "name": "python",
   "nbconvert_exporter": "python",
   "pygments_lexer": "ipython3",
   "version": "3.6.10"
  }
 },
 "nbformat": 4,
 "nbformat_minor": 4
}
